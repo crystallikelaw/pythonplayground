{
 "cells": [
  {
   "attachments": {},
   "cell_type": "markdown",
   "metadata": {},
   "source": [
    "Understanding `sympy` through integer scaling for images\n",
    "\n",
    "\n",
    "### Problem:\n",
    "\n",
    "Images have different dimensions than displays, and often need to be stretched/shrunk to fit. To avoid distorting the image, we often want to use *integer scaling*. That is, if enlarging a smaller image, distorting it in such a way that a single (square) 1x1 pixel in the smaller image is stretched to a square in the larger image (say 2x2 or 3x3). Then shapes are preserved (though you might need black bars above/to the sides if the aspect ratios differ).\n",
    "\n",
    "For a larger image, shrinking a square area (say 5x5) to a single (square) pixel, also doesn't distort/squeeze the image.\n",
    "\n",
    "Doing this in pure python is imprecise, so `sympy`, which allows us to work with ratios such as 16/9 or 10/4 instead of `1.7777777777777777` and `2.5`, allows us to avoid imprecision that comes with floating point. "
   ]
  },
  {
   "cell_type": "code",
   "execution_count": 4,
   "metadata": {},
   "outputs": [],
   "source": [
    "from math import ceil, floor\n",
    "\n",
    "from sympy import Integer, Mul, evaluate, simplify"
   ]
  },
  {
   "cell_type": "code",
   "execution_count": 5,
   "metadata": {},
   "outputs": [
    {
     "name": "stdout",
     "output_type": "stream",
     "text": [
      "Aspect ratios: 720/576 (5/4) --> 2560/1440 (16/9) \n",
      "Perfect scaling is 5/2\n",
      "Integer scaling is 2\n",
      "Best image: 1440/1152\n"
     ]
    },
    {
     "data": {
      "text/plain": [
       "0"
      ]
     },
     "execution_count": 5,
     "metadata": {},
     "output_type": "execute_result"
    }
   ],
   "source": [
    "\n",
    "def scaler(d: Mul, i: Mul):\n",
    "    \"\"\"\n",
    "    Provides optimum integer scaling factor to scale a image resolution (w/h) to a display resolution (w/h)\n",
    "    while maintaining aspect ratio\n",
    "\n",
    "    Args:\n",
    "        d (Mul): Display resolution, eg. 720/576 (both must be +ve integers)\n",
    "        i (Mul): Image resolution, eg. 640/480 (both must be +ve integers)\n",
    "    \"\"\"\n",
    "    assert type(d) is Mul, \"malformed input 1, expected Mul\"\n",
    "    assert type(i) is Mul, \"malformed input 2, expected Mul\"\n",
    "    assert not any(x < 0 for x in d.args), \"Dimensions must be positive\"\n",
    "    assert not any(x < 0 for x in i.args), \"Dimensions must be positive\"\n",
    "    print(\"Aspect ratios: \", i, \" (\", i.simplify(), \") \",\n",
    "          \"--> \", d, \" (\", d.simplify(), \") \", sep='')\n",
    "\n",
    "    ratio_width = d.args[0] / i.args[0]\n",
    "    ratio_height = i.args[-1] / d.args[-1]\n",
    "    if min(ratio_width, ratio_height) > 1:  # image must be scaled UP (in both dimensions display>image)\n",
    "        ratio = min(ratio_width, ratio_height)\n",
    "        print(\"Perfect scaling is\", ratio)\n",
    "        ratio2 = floor(ratio.evalf())\n",
    "        a = simplify(i.args[0] * ratio2)  # new width\n",
    "        b = simplify(i.args[-1]**(-1) * ratio2)  # new height\n",
    "        if ratio != ratio2:\n",
    "            print(\"Integer scaling is\", ratio2)\n",
    "        with evaluate(False):\n",
    "            c = a / b\n",
    "        print(\"Best image:\", c)\n",
    "        return 0\n",
    "    # image must be scaled DOWN (in some dimension image>display)\n",
    "    elif min(ratio_width, ratio_height) < 1:\n",
    "        # dimension in which image is (relatively) largest\n",
    "        ratio = min(ratio_width, ratio_height)\n",
    "        print(\"Perfect scaling is\", ratio)\n",
    "        ratio2 = ceil((ratio**(-1)).evalf())**-1\n",
    "        a = simplify(i.args[0] * ratio2)  # new width\n",
    "        b = simplify(i.args[-1]**(-1) * ratio2)  # new height\n",
    "        # if optimal integer scaling returns a noninteger\n",
    "        while (type(a) is not Integer) or (type(b) is not Integer):\n",
    "            ratio2 = (ratio2**-1 + 1)**-1\n",
    "            if a < 1 or b < 1:\n",
    "                print(\"Optimal scale not found\")\n",
    "                return -1\n",
    "            a = simplify(i.args[0] * ratio2)  # new width\n",
    "            b = simplify(i.args[-1]**(-1) * ratio2)  # new height\n",
    "        if ratio != ratio2:  # New scale even if only for returning integral dimensions\n",
    "            print(\"Integer scaling is\", ratio2)\n",
    "        with evaluate(False):\n",
    "            c = a / b\n",
    "        print(\"Best image:\", c)\n",
    "        return 0\n",
    "    else:\n",
    "        print(\"Already Scaled\")\n",
    "        return 0\n",
    "\n",
    "\n",
    "# transforming a 720x576 image to QHD (2560x1440)\n",
    "display_w = Integer(2560)\n",
    "display_h = Integer(1440)\n",
    "image_w = Integer(720)\n",
    "image_h = Integer(576)\n",
    "\n",
    "with evaluate(False):\n",
    "    display_res = display_w / display_h\n",
    "    image_res = image_w / image_h\n",
    "\n",
    "scaler(display_res, image_res)"
   ]
  },
  {
   "cell_type": "code",
   "execution_count": 7,
   "metadata": {},
   "outputs": [
    {
     "name": "stdout",
     "output_type": "stream",
     "text": [
      "Aspect ratios: 3840/2160 (16/9) --> 704/480 (22/15) \n",
      "Perfect scaling is 11/60\n",
      "Integer scaling is 1/6\n",
      "Best image: 640/360\n"
     ]
    },
    {
     "data": {
      "text/plain": [
       "0"
      ]
     },
     "execution_count": 7,
     "metadata": {},
     "output_type": "execute_result"
    }
   ],
   "source": [
    "# transforming a UHD (3840x2160) image to 704x480\n",
    "image_w = Integer(3840)\n",
    "image_h = Integer(2160)\n",
    "display_w = Integer(704)\n",
    "display_h = Integer(480)\n",
    "\n",
    "with evaluate(False):\n",
    "    display_res = display_w / display_h\n",
    "    image_res = image_w / image_h\n",
    "\n",
    "scaler(display_res, image_res)\n"
   ]
  },
  {
   "cell_type": "code",
   "execution_count": 8,
   "metadata": {},
   "outputs": [
    {
     "name": "stdout",
     "output_type": "stream",
     "text": [
      "Aspect ratios: 3840/2160 (16/9) --> 1204/5480 (301/1370) \n",
      "Perfect scaling is 301/960\n",
      "Integer scaling is 1/4\n",
      "Best image: 960/540\n"
     ]
    },
    {
     "data": {
      "text/plain": [
       "0"
      ]
     },
     "execution_count": 8,
     "metadata": {},
     "output_type": "execute_result"
    }
   ],
   "source": [
    "image_w = Integer(3840)\n",
    "image_h = Integer(2160)\n",
    "display_w = Integer(1204)\n",
    "display_h = Integer(5480)\n",
    "\n",
    "with evaluate(False):\n",
    "    display_res = display_w / display_h\n",
    "    image_res = image_w / image_h\n",
    "\n",
    "scaler(display_res, image_res)\n"
   ]
  },
  {
   "cell_type": "code",
   "execution_count": 9,
   "metadata": {},
   "outputs": [
    {
     "name": "stdout",
     "output_type": "stream",
     "text": [
      "Aspect ratios: 3840/2160 (16/9) --> 8000/2080 (50/13) \n",
      "Perfect scaling is 26/27\n",
      "Integer scaling is 1/2\n",
      "Best image: 1920/1080\n"
     ]
    },
    {
     "data": {
      "text/plain": [
       "0"
      ]
     },
     "execution_count": 9,
     "metadata": {},
     "output_type": "execute_result"
    }
   ],
   "source": [
    "image_w = Integer(3840)\n",
    "image_h = Integer(2160)\n",
    "display_w = Integer(8000)\n",
    "display_h = Integer(2080)\n",
    "\n",
    "with evaluate(False):\n",
    "    display_res = display_w / display_h\n",
    "    image_res = image_w / image_h\n",
    "\n",
    "scaler(display_res, image_res)\n"
   ]
  },
  {
   "cell_type": "code",
   "execution_count": null,
   "metadata": {},
   "outputs": [],
   "source": []
  }
 ],
 "metadata": {
  "kernelspec": {
   "display_name": "mldefault",
   "language": "python",
   "name": "python3"
  },
  "language_info": {
   "codemirror_mode": {
    "name": "ipython",
    "version": 3
   },
   "file_extension": ".py",
   "mimetype": "text/x-python",
   "name": "python",
   "nbconvert_exporter": "python",
   "pygments_lexer": "ipython3",
   "version": "3.10.10"
  },
  "orig_nbformat": 4
 },
 "nbformat": 4,
 "nbformat_minor": 2
}
